{
 "cells": [
  {
   "cell_type": "code",
   "execution_count": 1,
   "id": "d761cac8",
   "metadata": {},
   "outputs": [],
   "source": [
    "import time\n",
    "start = time.time()"
   ]
  },
  {
   "cell_type": "markdown",
   "id": "846eda50-b21c-4231-a85f-b4f407816a50",
   "metadata": {},
   "source": [
    "## Import libraries"
   ]
  },
  {
   "cell_type": "code",
   "execution_count": 2,
   "id": "e689254f-5cf2-446d-a3cd-d975b5e955da",
   "metadata": {},
   "outputs": [],
   "source": [
    "import time\n",
    "from selenium import webdriver\n",
    "from selenium.webdriver.common.keys import Keys\n",
    "from selenium.webdriver.common.by import By\n",
    "import os"
   ]
  },
  {
   "cell_type": "markdown",
   "id": "9f2b7a8c-631d-4094-9f73-b3cf10adeb23",
   "metadata": {},
   "source": [
    "## Download new moments' data"
   ]
  },
  {
   "cell_type": "code",
   "execution_count": 3,
   "id": "40fca4db",
   "metadata": {},
   "outputs": [],
   "source": [
    "# Download new moments' data\n",
    "chrome_options = webdriver.ChromeOptions()\n",
    "\n",
    "#os.getcwd()\n",
    "\n",
    "moments_path = os.getcwd() + \"\\\\moments_data\"\n",
    "#moments_Path\n",
    "\n",
    "prefs = {'download.default_directory' : moments_path}\n",
    "chrome_options.add_experimental_option('prefs', prefs)\n",
    "driver = webdriver.Chrome(executable_path='chromedriver', options=chrome_options)\n",
    "\n",
    "#driver = webdriver.Chrome(executable_path='chromedriver')\n",
    "time.sleep(3)\n",
    "\n",
    "driver.get('https://otmnft.com/moments/')#put here the adress of your page\n",
    "btn = driver.find_element(By.XPATH, '/html/body/div[3]/div[2]/div/form/div[1]/div/div/div[3]/center/button[2]')\n",
    "btn.click()\n",
    "time.sleep(4)\n",
    "\n",
    "driver.close()"
   ]
  },
  {
   "cell_type": "markdown",
   "id": "ab7455e6-4942-4c58-9cfc-40e7674b4e9a",
   "metadata": {},
   "source": [
    "## Read the latest moments data"
   ]
  },
  {
   "cell_type": "code",
   "execution_count": 4,
   "id": "2eab68a0",
   "metadata": {},
   "outputs": [],
   "source": [
    "# Import pandas as pd\n",
    "import pandas as pd\n",
    "import glob\n",
    "\n",
    "# Set the path for the latest moments data\n",
    "latest_moments_path= moments_path + '\\\\moments*.csv'\n",
    "\n",
    "# Create dict specifying data types for agi_stub and zipcode\n",
    "data_types = {\"Series\": \"category\", \"zipcode\": str}\n",
    "\n",
    "date_columns = ['Time Stamp (EST)', 'Date of Moment']\n",
    "\n",
    "try:\n",
    "    \n",
    "    # Read the latest moments file\n",
    "    list_of_files = glob.glob(latest_moments_path) # * means all if need specific format then *.csv\n",
    "    latest_file = max(list_of_files, key=os.path.getctime)\n",
    "    \n",
    "    # Read the CSV and assign it to the variable moments\n",
    "    moments = pd.read_csv(latest_file, dtype= data_types, parse_dates=date_columns)\n",
    "        \n",
    "    moments = moments[~moments.Set.str.contains(\"WNBA|In Her Bag\")]\n",
    "\n",
    "    moments = moments.rename(columns={'Date of Moment': 'date_of_moment', 'Player Name': 'player_name'})\n",
    "\n",
    "    moments['date_of_moment'] = pd.to_datetime(moments.date_of_moment).dt.tz_localize(None)\n",
    "    \n",
    "except pd.io.common.CParserError:\n",
    "    print(\"Your data contained rows that could not be parsed.\")"
   ]
  },
  {
   "cell_type": "code",
   "execution_count": 5,
   "id": "da7a5810",
   "metadata": {},
   "outputs": [],
   "source": [
    "moments['player_name'] = moments['player_name'].str.replace('.', '', regex=True)"
   ]
  },
  {
   "cell_type": "code",
   "execution_count": 6,
   "id": "14b559fd-b2ac-4b61-9e1e-e853b4b1be1c",
   "metadata": {},
   "outputs": [],
   "source": [
    "moments['Time Stamp (EST)'] = moments['Time Stamp (EST)'].dt.date"
   ]
  },
  {
   "cell_type": "code",
   "execution_count": 7,
   "id": "475ee176",
   "metadata": {},
   "outputs": [],
   "source": [
    "five_thirty_eight_path = os.getcwd() + \"\\\\five_thirty_eight\\\\pcapmv.xlsx\"\n",
    "\n",
    "# Read spreadsheet and assign it to survey_responses\n",
    "five_thirty_eight = pd.read_excel(five_thirty_eight_path, engine='openpyxl')\n",
    "\n",
    "five_thirty_eight['player'] = five_thirty_eight['player'].str.title()\n",
    "\n",
    "name_suffixes_replacement = {\"Iii\": \"III\", \"Ii\": \"II\"}\n",
    "\n",
    "five_thirty_eight['player'] = five_thirty_eight['player'].replace(name_suffixes_replacement, regex=True)\n",
    "\n",
    "five_thirty_eight['age'] = five_thirty_eight['age'].str.replace(' years old', '', regex=True)"
   ]
  },
  {
   "cell_type": "code",
   "execution_count": 8,
   "id": "ba69ca60",
   "metadata": {},
   "outputs": [],
   "source": [
    "market_value_replacement = {\"\\$\": \"\", \"m\": \"\"}\n",
    "\n",
    "five_thirty_eight['market_value'] = five_thirty_eight['market_value'].replace(market_value_replacement, regex=True)"
   ]
  },
  {
   "cell_type": "code",
   "execution_count": 9,
   "id": "960efd89",
   "metadata": {},
   "outputs": [],
   "source": [
    "import difflib\n",
    "\n",
    "difflib.get_close_matches\n",
    "\n",
    "moments.player_name = moments.player_name.map(lambda x: difflib.get_close_matches(x, five_thirty_eight.player, cutoff=0.8))\n",
    "\n",
    "moments[\"player_name\"] = moments[\"player_name\"].str[0]"
   ]
  },
  {
   "cell_type": "code",
   "execution_count": 10,
   "id": "8d176980",
   "metadata": {},
   "outputs": [],
   "source": [
    "# Merge five_thirty_eight into moments on the player_name\n",
    "merged_df = five_thirty_eight.merge(moments,left_on=\"player\",right_on=\"player_name\")\n",
    "\n",
    "merged_df = merged_df.drop('player_name', axis=1)\n",
    "\n",
    "merged_df['moments_count'] = merged_df.groupby(['player'])['category'].transform('count')"
   ]
  },
  {
   "cell_type": "code",
   "execution_count": 11,
   "id": "e4d9bfe8",
   "metadata": {},
   "outputs": [],
   "source": [
    "merged_df_new= pd.crosstab(merged_df.player,merged_df.Series)\n",
    "\n",
    "merged_df_new = merged_df_new.stack().reset_index().rename(columns={0:'series_count'})\n",
    "\n",
    "merged_df_new['Series'] = merged_df_new['Series'].map({'1':'CS1', '2':'CS2', '3':'CS3', '4':'CS4'}) \n",
    "\n",
    "merged_df_new = merged_df_new.pivot_table(values='series_count', index=['player'], columns=['Series'], aggfunc='first')\n",
    "\n",
    "merged_df_new.fillna(0, inplace= True)\n",
    "\n",
    "merged_df_new['player'] = merged_df_new.index\n",
    "\n",
    "merged_df_new.reset_index(drop=True, inplace=True)"
   ]
  },
  {
   "cell_type": "code",
   "execution_count": 12,
   "id": "58a94559",
   "metadata": {},
   "outputs": [],
   "source": [
    "# Merge five_thirty_eight into moments on the player_name\n",
    "final_df = merged_df.merge(merged_df_new,on=\"player\")"
   ]
  },
  {
   "cell_type": "code",
   "execution_count": 13,
   "id": "5983ed9e",
   "metadata": {},
   "outputs": [],
   "source": [
    "final_df['Low Ask'] = final_df['Low Ask'].astype(int)\n",
    "\n",
    "final_df['cs_per_dollar'] = final_df['Collector Score']/final_df['Low Ask']\n",
    "\n",
    "final_df['cs_per_dollar'] = final_df['cs_per_dollar'].round(2)\n",
    "\n",
    "final_df['market_cap']= final_df['Circulation Count']*final_df['Low Ask']"
   ]
  },
  {
   "cell_type": "code",
   "execution_count": 14,
   "id": "f04cbbd2-5806-4210-988e-4ed8d6f03b75",
   "metadata": {},
   "outputs": [],
   "source": [
    "accumulated_data_path = os.getcwd() + '\\\\accumulated_data\\\\merged_data.csv'"
   ]
  },
  {
   "cell_type": "code",
   "execution_count": 15,
   "id": "38df71c5",
   "metadata": {},
   "outputs": [],
   "source": [
    "existing_data = pd.read_csv(accumulated_data_path)"
   ]
  },
  {
   "cell_type": "code",
   "execution_count": 16,
   "id": "9852a2aa",
   "metadata": {},
   "outputs": [],
   "source": [
    "refreshed_df= pd.concat([existing_data, final_df], axis=0, ignore_index=False)"
   ]
  },
  {
   "cell_type": "code",
   "execution_count": 17,
   "id": "3d87d0c4-cdbb-4d95-b2c7-b6e1a9c62d23",
   "metadata": {},
   "outputs": [],
   "source": [
    "#final_df"
   ]
  },
  {
   "cell_type": "code",
   "execution_count": 18,
   "id": "87d3ca81",
   "metadata": {},
   "outputs": [],
   "source": [
    "refreshed_df.to_csv(accumulated_data_path, sep=',', index=False)"
   ]
  },
  {
   "cell_type": "code",
   "execution_count": 19,
   "id": "9dbabae4",
   "metadata": {},
   "outputs": [
    {
     "name": "stdout",
     "output_type": "stream",
     "text": [
      "Your moments data has been updated in 30.590022325515747 seconds\n"
     ]
    }
   ],
   "source": [
    "end = time.time()\n",
    "print('Your moments data has been updated in', end - start, 'seconds')"
   ]
  }
 ],
 "metadata": {
  "kernelspec": {
   "display_name": "nfts_nba_extraction_kernel",
   "language": "python",
   "name": "nfts_nba_extraction_kernel"
  },
  "language_info": {
   "codemirror_mode": {
    "name": "ipython",
    "version": 3
   },
   "file_extension": ".py",
   "mimetype": "text/x-python",
   "name": "python",
   "nbconvert_exporter": "python",
   "pygments_lexer": "ipython3",
   "version": "3.9.7"
  }
 },
 "nbformat": 4,
 "nbformat_minor": 5
}
